{
 "cells": [
  {
   "cell_type": "code",
   "execution_count": 2,
   "metadata": {},
   "outputs": [],
   "source": [
    "import numpy as np\n",
    "from sklearn.model_selection import train_test_split\n",
    "import matplotlib.pyplot as plt\n",
    "import config\n",
    "import os\n",
    "import time\n",
    "import scipy.io as io\n",
    "\n",
    "obj = 4\n",
    "P_pv_max = 10/100\n",
    "year = 365 # the days in one year\n",
    "c_e_b = io.loadmat('c_e_t.mat')['c_e_t']*1000*100 # the electricity price for buy at each hour and the unit is $/kWh，乘以1000是将单位换算为$/MWh，再乘以100是将单位换算为$/100MWh\n",
    "c_e_b = c_e_b.reshape((1,1,24))\n",
    "c_e_s = np.zeros((1,1,24)) # the electricity price for sell\n",
    "for i in range(24):\n",
    "    c_e_s[0,0,i] = c_e_b[0,0,i] * 0.7\n",
    "ess_num = 2\n",
    "pv_num = 3\n",
    "c_ess_op = 0.00027*1000*100 # the operation cost of ess unit is $/kWh，乘以1000是将单位换算为$/MWh，再乘以100是将单位换算为$/100MWh\n",
    "c_pv_cut = 0.033*1000*100 # the punishment on pv deserting, and the unit is $/kWh，乘以1000是将单位换算为$/MWh，再乘以100是将单位换算为$/100MWh\n",
    "N = 5 # 随机场景的数量\n",
    "p_pv = io.loadmat('p_pv.mat')['p_pv'][0:pv_num,0:N,:] # the value is in p.u. value and represents the fluctuation, the power factor of PV is 0.9，滞后\n",
    "\n",
    "relax = config.get_relax()\n",
    "MSE = config.get_MSE()\n",
    "k = config.get_k()\n",
    "MAE = config.get_MAE()\n",
    "diff = config.get_diff()\n",
    "test_prop = config.get_test_prop()\n",
    "test_new = config.get_test_new()\n",
    "num_iterations = config.get_num_iterations()\n",
    "diff_max = config.get_diff_max()\n",
    "initial_num = config.get_initial_num()\n",
    "testing_num = config.get_testing_num()\n",
    "BatchSize = config.get_BatchSize()\n",
    "Epochs = config.get_Epochs()\n",
    "LearningRate = config.get_LearningRate()\n",
    "\n",
    "f_train = np.load('f_train_iteration_'+str(initial_num)+'_iter_'+str(num_iterations)+'_MSE_'+str(MSE)+'_MAE_'+str(MAE)+'_diff_'+str(diff)+'.npy')\n",
    "\n",
    "io.savemat('f_train_final.mat',{'f_train_final':f_train})\n",
    "\n",
    "\n"
   ]
  }
 ],
 "metadata": {
  "kernelspec": {
   "display_name": "Python 3",
   "language": "python",
   "name": "python3"
  },
  "language_info": {
   "codemirror_mode": {
    "name": "ipython",
    "version": 3
   },
   "file_extension": ".py",
   "mimetype": "text/x-python",
   "name": "python",
   "nbconvert_exporter": "python",
   "pygments_lexer": "ipython3",
   "version": "3.7.9"
  }
 },
 "nbformat": 4,
 "nbformat_minor": 2
}
