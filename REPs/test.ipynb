{
 "cells": [
  {
   "cell_type": "code",
   "execution_count": 1,
   "metadata": {},
   "outputs": [],
   "source": [
    "import ParetoCheck as PC\n",
    "import config\n",
    "import time\n",
    "from sklearn.datasets import fetch_california_housing\n",
    "from sklearn.model_selection import train_test_split\n",
    "from sklearn.preprocessing import StandardScaler\n",
    "from tensorflow.keras.models import Sequential\n",
    "from tensorflow.keras.layers import Dense\n",
    "from tensorflow.keras.optimizers import Adam\n",
    "import random\n",
    "import multiprocessing\n",
    "import main_py_fun_ws_OLTC as mfws\n",
    "import numpy as np\n",
    "import scipy.io as io\n",
    "\n",
    "relax = config.get_relax()\n",
    "MSE = config.get_MSE()\n",
    "k = config.get_k()\n",
    "MAE = config.get_MAE()\n",
    "diff = config.get_diff()\n",
    "test_prop = config.get_test_prop()\n",
    "test_new = config.get_test_new()\n",
    "num_iterations = config.get_num_iterations()\n",
    "diff_max = config.get_diff_max()\n",
    "initial_num = config.get_initial_num()\n",
    "testing_num = config.get_testing_num()\n",
    "BatchSize = config.get_BatchSize()\n",
    "Epochs = config.get_Epochs()\n",
    "LearningRate = config.get_LearningRate()\n",
    "\n",
    "diff_list1 = np.load('diff_list1_'+str(initial_num)+'_iter_'+str(num_iterations)+'_MSE_'+str(MSE)+'_MAE_'+str(MAE)+'_diff_'+str(diff)+'.npy')\n",
    "diff_list2 = np.load('diff_list2_'+str(initial_num)+'_iter_'+str(num_iterations)+'_MSE_'+str(MSE)+'_MAE_'+str(MAE)+'_diff_'+str(diff)+'.npy')\n",
    "diff_list3 = np.load('diff_list3_'+str(initial_num)+'_iter_'+str(num_iterations)+'_MSE_'+str(MSE)+'_MAE_'+str(MAE)+'_diff_'+str(diff)+'.npy')\n",
    "\n",
    "io.savemat('diff_list1.mat',{'diff_list1':diff_list1})\n",
    "io.savemat('diff_list2.mat',{'diff_list2':diff_list2})\n",
    "io.savemat('diff_list3.mat',{'diff_list3':diff_list3})\n",
    "\n",
    "delta_diff1 = np.zeros([len(diff_list1)-2,1])\n",
    "delta_diff2 = np.zeros([len(diff_list2)-2,1])\n",
    "delta_diff3 = np.zeros([len(diff_list3)-2,1])\n",
    "\n",
    "for i in range(2,len(diff_list1)):\n",
    "    delta_diff1[i-2,0] = diff_list1[i] - diff_list1[i-1]\n",
    "    delta_diff2[i-2,0] = diff_list2[i] - diff_list2[i-1]\n",
    "    delta_diff3[i-2,0] = diff_list3[i] - diff_list3[i-1]\n",
    "\n",
    "io.savemat('delta_diff1.mat',{'delta_diff1':delta_diff1})\n",
    "io.savemat('delta_diff2.mat',{'delta_diff2':delta_diff2})\n",
    "io.savemat('delta_diff3.mat',{'delta_diff3':delta_diff3})"
   ]
  },
  {
   "cell_type": "code",
   "execution_count": 7,
   "metadata": {},
   "outputs": [
    {
     "name": "stdout",
     "output_type": "stream",
     "text": [
      "PV unit capacity:  [[1.15323179e-05]\n",
      " [3.82354383e-02]\n",
      " [3.16460507e-05]\n",
      " [9.99935328e-02]\n",
      " [1.19629520e-04]\n",
      " [6.58365316e-04]]\n",
      "ESS energy capacity:  [[1.06218752e-05]\n",
      " [3.90978323e-06]\n",
      " [4.77114824e-06]]\n",
      "ESS power capacity:  [[7.78326979e-06]\n",
      " [3.90589473e-06]\n",
      " [4.15335050e-06]]\n"
     ]
    }
   ],
   "source": [
    "import numpy as np\n",
    "from sklearn.model_selection import train_test_split\n",
    "import matplotlib.pyplot as plt\n",
    "import config\n",
    "import os\n",
    "import time\n",
    "\n",
    "obj = 4\n",
    "P_pv_max = 10/100\n",
    "N_random = 30\n",
    "w1 = 0.569766970000000\n",
    "w2 = 0.413940960000000\n",
    "\n",
    "path = './DataFile/'\n",
    "result_data = np.load(path+'result_obj'+str(obj)+'_w1_'+str(w1)+'_w2_'+str(w2)+'_pv'+str(P_pv_max)+'.npz')\n",
    "pv_cap = result_data['pv_cap']\n",
    "E_ess = result_data['E_ess']\n",
    "p_ess = result_data['p_ess']\n",
    "print('PV unit capacity: ', pv_cap)\n",
    "print('ESS energy capacity: ', E_ess)\n",
    "print('ESS power capacity: ', p_ess)\n"
   ]
  },
  {
   "cell_type": "code",
   "execution_count": 2,
   "metadata": {},
   "outputs": [
    {
     "name": "stdout",
     "output_type": "stream",
     "text": [
      "457\n"
     ]
    }
   ],
   "source": [
    "import numpy as np\n",
    "import random\n",
    "import config\n",
    "import scipy.io as io\n",
    "\n",
    "initial_num = config.get_initial_num()\n",
    "num_iterations = config.get_num_iterations()\n",
    "MSE = config.get_MSE()\n",
    "MAE = config.get_MAE()\n",
    "diff = config.get_diff()\n",
    "\n",
    "w_train = np.load('w_train_iteration_'+str(initial_num)+'_iter_'+str(num_iterations)+'_MSE_'+str(MSE)+'_MAE_'+str(MAE)+'_diff_'+str(diff)+'.npy')\n",
    "f_train = np.load('f_train_iteration_'+str(initial_num)+'_iter_'+str(num_iterations)+'_MSE_'+str(MSE)+'_MAE_'+str(MAE)+'_diff_'+str(diff)+'.npy')\n",
    "\n",
    "io.savemat('w_final_train.mat',{'w_final_train':w_train})\n",
    "io.savemat('f_final_train.mat',{'f_final_train':f_train})\n",
    "\n",
    "print(len(w_train))"
   ]
  }
 ],
 "metadata": {
  "kernelspec": {
   "display_name": "Python 3.6.8 64-bit",
   "language": "python",
   "name": "python3"
  },
  "language_info": {
   "codemirror_mode": {
    "name": "ipython",
    "version": 3
   },
   "file_extension": ".py",
   "mimetype": "text/x-python",
   "name": "python",
   "nbconvert_exporter": "python",
   "pygments_lexer": "ipython3",
   "version": "3.7.9"
  },
  "orig_nbformat": 4,
  "vscode": {
   "interpreter": {
    "hash": "6d3a5f6a84d99875fb690f739f992bb26f0aae31598eaa82af1705d2007080ae"
   }
  }
 },
 "nbformat": 4,
 "nbformat_minor": 2
}
